{
  "nbformat": 4,
  "nbformat_minor": 0,
  "metadata": {
    "colab": {
      "name": "iris flower without linear progression library .ipynb",
      "provenance": [],
      "collapsed_sections": [],
      "include_colab_link": true
    },
    "kernelspec": {
      "name": "python3",
      "display_name": "Python 3"
    }
  },
  "cells": [
    {
      "cell_type": "markdown",
      "metadata": {
        "id": "view-in-github",
        "colab_type": "text"
      },
      "source": [
        "<a href=\"https://colab.research.google.com/github/SAZZZO99/IRIS-FLOWER-CLASSIFICATION/blob/master/iris_flower_without_linear_progression_library_.ipynb\" target=\"_parent\"><img src=\"https://colab.research.google.com/assets/colab-badge.svg\" alt=\"Open In Colab\"/></a>"
      ]
    },
    {
      "cell_type": "code",
      "metadata": {
        "id": "DtfqpLLtt5ao",
        "colab_type": "code",
        "colab": {}
      },
      "source": [
        "import numpy as np\n",
        "import pandas as pd\n",
        "from google.colab import files"
      ],
      "execution_count": 0,
      "outputs": []
    },
    {
      "cell_type": "code",
      "metadata": {
        "id": "z7Akh0Arud61",
        "colab_type": "code",
        "outputId": "ee93d866-79c8-433e-e28e-77b9e0f88216",
        "colab": {
          "resources": {
            "http://localhost:8080/nbextensions/google.colab/files.js": {
              "data": "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",
              "ok": true,
              "headers": [
                [
                  "content-type",
                  "application/javascript"
                ]
              ],
              "status": 200,
              "status_text": ""
            }
          },
          "base_uri": "https://localhost:8080/",
          "height": 76
        }
      },
      "source": [
        "uploaded = files.upload()"
      ],
      "execution_count": 0,
      "outputs": [
        {
          "output_type": "display_data",
          "data": {
            "text/html": [
              "\n",
              "     <input type=\"file\" id=\"files-200a5b47-bf78-484e-8da2-7460ad77d0e8\" name=\"files[]\" multiple disabled />\n",
              "     <output id=\"result-200a5b47-bf78-484e-8da2-7460ad77d0e8\">\n",
              "      Upload widget is only available when the cell has been executed in the\n",
              "      current browser session. Please rerun this cell to enable.\n",
              "      </output>\n",
              "      <script src=\"/nbextensions/google.colab/files.js\"></script> "
            ],
            "text/plain": [
              "<IPython.core.display.HTML object>"
            ]
          },
          "metadata": {
            "tags": []
          }
        },
        {
          "output_type": "stream",
          "text": [
            "Saving IRIS.csv to IRIS.csv\n"
          ],
          "name": "stdout"
        }
      ]
    },
    {
      "cell_type": "code",
      "metadata": {
        "id": "UQah5wW6wC3_",
        "colab_type": "code",
        "outputId": "34536cee-9932-4f09-d9a6-07d217fd5f9e",
        "colab": {
          "base_uri": "https://localhost:8080/",
          "height": 35
        }
      },
      "source": [
        "for fn in uploaded.keys():\n",
        "  print('User uploaded file \"{name}\" with length {length} bytes'.format(\n",
        "      name=fn, length=len(uploaded[fn])))"
      ],
      "execution_count": 0,
      "outputs": [
        {
          "output_type": "stream",
          "text": [
            "User uploaded file \"IRIS.csv\" with length 3975 bytes\n"
          ],
          "name": "stdout"
        }
      ]
    },
    {
      "cell_type": "code",
      "metadata": {
        "id": "SkugsPfXwLsR",
        "colab_type": "code",
        "outputId": "b10fb2e8-36f7-4286-a8d7-a6387e29a770",
        "colab": {
          "base_uri": "https://localhost:8080/",
          "height": 55
        }
      },
      "source": [
        "uploaded"
      ],
      "execution_count": 0,
      "outputs": [
        {
          "output_type": "execute_result",
          "data": {
            "text/plain": [
              "{'IRIS.csv': b'\"sepal.length\",\"sepal.width\",\"petal.length\",\"petal.width\",\"variety\"\\n5.1,3.5,1.4,.2,\"Setosa\"\\n4.9,3,1.4,.2,\"Setosa\"\\n4.7,3.2,1.3,.2,\"Setosa\"\\n4.6,3.1,1.5,.2,\"Setosa\"\\n5,3.6,1.4,.2,\"Setosa\"\\n5.4,3.9,1.7,.4,\"Setosa\"\\n4.6,3.4,1.4,.3,\"Setosa\"\\n5,3.4,1.5,.2,\"Setosa\"\\n4.4,2.9,1.4,.2,\"Setosa\"\\n4.9,3.1,1.5,.1,\"Setosa\"\\n5.4,3.7,1.5,.2,\"Setosa\"\\n4.8,3.4,1.6,.2,\"Setosa\"\\n4.8,3,1.4,.1,\"Setosa\"\\n4.3,3,1.1,.1,\"Setosa\"\\n5.8,4,1.2,.2,\"Setosa\"\\n5.7,4.4,1.5,.4,\"Setosa\"\\n5.4,3.9,1.3,.4,\"Setosa\"\\n5.1,3.5,1.4,.3,\"Setosa\"\\n5.7,3.8,1.7,.3,\"Setosa\"\\n5.1,3.8,1.5,.3,\"Setosa\"\\n5.4,3.4,1.7,.2,\"Setosa\"\\n5.1,3.7,1.5,.4,\"Setosa\"\\n4.6,3.6,1,.2,\"Setosa\"\\n5.1,3.3,1.7,.5,\"Setosa\"\\n4.8,3.4,1.9,.2,\"Setosa\"\\n5,3,1.6,.2,\"Setosa\"\\n5,3.4,1.6,.4,\"Setosa\"\\n5.2,3.5,1.5,.2,\"Setosa\"\\n5.2,3.4,1.4,.2,\"Setosa\"\\n4.7,3.2,1.6,.2,\"Setosa\"\\n4.8,3.1,1.6,.2,\"Setosa\"\\n5.4,3.4,1.5,.4,\"Setosa\"\\n5.2,4.1,1.5,.1,\"Setosa\"\\n5.5,4.2,1.4,.2,\"Setosa\"\\n4.9,3.1,1.5,.2,\"Setosa\"\\n5,3.2,1.2,.2,\"Setosa\"\\n5.5,3.5,1.3,.2,\"Setosa\"\\n4.9,3.6,1.4,.1,\"Setosa\"\\n4.4,3,1.3,.2,\"Setosa\"\\n5.1,3.4,1.5,.2,\"Setosa\"\\n5,3.5,1.3,.3,\"Setosa\"\\n4.5,2.3,1.3,.3,\"Setosa\"\\n4.4,3.2,1.3,.2,\"Setosa\"\\n5,3.5,1.6,.6,\"Setosa\"\\n5.1,3.8,1.9,.4,\"Setosa\"\\n4.8,3,1.4,.3,\"Setosa\"\\n5.1,3.8,1.6,.2,\"Setosa\"\\n4.6,3.2,1.4,.2,\"Setosa\"\\n5.3,3.7,1.5,.2,\"Setosa\"\\n5,3.3,1.4,.2,\"Setosa\"\\n7,3.2,4.7,1.4,\"Versicolor\"\\n6.4,3.2,4.5,1.5,\"Versicolor\"\\n6.9,3.1,4.9,1.5,\"Versicolor\"\\n5.5,2.3,4,1.3,\"Versicolor\"\\n6.5,2.8,4.6,1.5,\"Versicolor\"\\n5.7,2.8,4.5,1.3,\"Versicolor\"\\n6.3,3.3,4.7,1.6,\"Versicolor\"\\n4.9,2.4,3.3,1,\"Versicolor\"\\n6.6,2.9,4.6,1.3,\"Versicolor\"\\n5.2,2.7,3.9,1.4,\"Versicolor\"\\n5,2,3.5,1,\"Versicolor\"\\n5.9,3,4.2,1.5,\"Versicolor\"\\n6,2.2,4,1,\"Versicolor\"\\n6.1,2.9,4.7,1.4,\"Versicolor\"\\n5.6,2.9,3.6,1.3,\"Versicolor\"\\n6.7,3.1,4.4,1.4,\"Versicolor\"\\n5.6,3,4.5,1.5,\"Versicolor\"\\n5.8,2.7,4.1,1,\"Versicolor\"\\n6.2,2.2,4.5,1.5,\"Versicolor\"\\n5.6,2.5,3.9,1.1,\"Versicolor\"\\n5.9,3.2,4.8,1.8,\"Versicolor\"\\n6.1,2.8,4,1.3,\"Versicolor\"\\n6.3,2.5,4.9,1.5,\"Versicolor\"\\n6.1,2.8,4.7,1.2,\"Versicolor\"\\n6.4,2.9,4.3,1.3,\"Versicolor\"\\n6.6,3,4.4,1.4,\"Versicolor\"\\n6.8,2.8,4.8,1.4,\"Versicolor\"\\n6.7,3,5,1.7,\"Versicolor\"\\n6,2.9,4.5,1.5,\"Versicolor\"\\n5.7,2.6,3.5,1,\"Versicolor\"\\n5.5,2.4,3.8,1.1,\"Versicolor\"\\n5.5,2.4,3.7,1,\"Versicolor\"\\n5.8,2.7,3.9,1.2,\"Versicolor\"\\n6,2.7,5.1,1.6,\"Versicolor\"\\n5.4,3,4.5,1.5,\"Versicolor\"\\n6,3.4,4.5,1.6,\"Versicolor\"\\n6.7,3.1,4.7,1.5,\"Versicolor\"\\n6.3,2.3,4.4,1.3,\"Versicolor\"\\n5.6,3,4.1,1.3,\"Versicolor\"\\n5.5,2.5,4,1.3,\"Versicolor\"\\n5.5,2.6,4.4,1.2,\"Versicolor\"\\n6.1,3,4.6,1.4,\"Versicolor\"\\n5.8,2.6,4,1.2,\"Versicolor\"\\n5,2.3,3.3,1,\"Versicolor\"\\n5.6,2.7,4.2,1.3,\"Versicolor\"\\n5.7,3,4.2,1.2,\"Versicolor\"\\n5.7,2.9,4.2,1.3,\"Versicolor\"\\n6.2,2.9,4.3,1.3,\"Versicolor\"\\n5.1,2.5,3,1.1,\"Versicolor\"\\n5.7,2.8,4.1,1.3,\"Versicolor\"\\n6.3,3.3,6,2.5,\"Virginica\"\\n5.8,2.7,5.1,1.9,\"Virginica\"\\n7.1,3,5.9,2.1,\"Virginica\"\\n6.3,2.9,5.6,1.8,\"Virginica\"\\n6.5,3,5.8,2.2,\"Virginica\"\\n7.6,3,6.6,2.1,\"Virginica\"\\n4.9,2.5,4.5,1.7,\"Virginica\"\\n7.3,2.9,6.3,1.8,\"Virginica\"\\n6.7,2.5,5.8,1.8,\"Virginica\"\\n7.2,3.6,6.1,2.5,\"Virginica\"\\n6.5,3.2,5.1,2,\"Virginica\"\\n6.4,2.7,5.3,1.9,\"Virginica\"\\n6.8,3,5.5,2.1,\"Virginica\"\\n5.7,2.5,5,2,\"Virginica\"\\n5.8,2.8,5.1,2.4,\"Virginica\"\\n6.4,3.2,5.3,2.3,\"Virginica\"\\n6.5,3,5.5,1.8,\"Virginica\"\\n7.7,3.8,6.7,2.2,\"Virginica\"\\n7.7,2.6,6.9,2.3,\"Virginica\"\\n6,2.2,5,1.5,\"Virginica\"\\n6.9,3.2,5.7,2.3,\"Virginica\"\\n5.6,2.8,4.9,2,\"Virginica\"\\n7.7,2.8,6.7,2,\"Virginica\"\\n6.3,2.7,4.9,1.8,\"Virginica\"\\n6.7,3.3,5.7,2.1,\"Virginica\"\\n7.2,3.2,6,1.8,\"Virginica\"\\n6.2,2.8,4.8,1.8,\"Virginica\"\\n6.1,3,4.9,1.8,\"Virginica\"\\n6.4,2.8,5.6,2.1,\"Virginica\"\\n7.2,3,5.8,1.6,\"Virginica\"\\n7.4,2.8,6.1,1.9,\"Virginica\"\\n7.9,3.8,6.4,2,\"Virginica\"\\n6.4,2.8,5.6,2.2,\"Virginica\"\\n6.3,2.8,5.1,1.5,\"Virginica\"\\n6.1,2.6,5.6,1.4,\"Virginica\"\\n7.7,3,6.1,2.3,\"Virginica\"\\n6.3,3.4,5.6,2.4,\"Virginica\"\\n6.4,3.1,5.5,1.8,\"Virginica\"\\n6,3,4.8,1.8,\"Virginica\"\\n6.9,3.1,5.4,2.1,\"Virginica\"\\n6.7,3.1,5.6,2.4,\"Virginica\"\\n6.9,3.1,5.1,2.3,\"Virginica\"\\n5.8,2.7,5.1,1.9,\"Virginica\"\\n6.8,3.2,5.9,2.3,\"Virginica\"\\n6.7,3.3,5.7,2.5,\"Virginica\"\\n6.7,3,5.2,2.3,\"Virginica\"\\n6.3,2.5,5,1.9,\"Virginica\"\\n6.5,3,5.2,2,\"Virginica\"\\n6.2,3.4,5.4,2.3,\"Virginica\"\\n5.9,3,5.1,1.8,\"Virginica\"'}"
            ]
          },
          "metadata": {
            "tags": []
          },
          "execution_count": 13
        }
      ]
    },
    {
      "cell_type": "code",
      "metadata": {
        "id": "vG2L6-jkw0kM",
        "colab_type": "code",
        "colab": {}
      },
      "source": [
        "import io"
      ],
      "execution_count": 0,
      "outputs": []
    },
    {
      "cell_type": "code",
      "metadata": {
        "id": "f0eb_A8bw2D5",
        "colab_type": "code",
        "outputId": "2398060e-346a-4124-a68d-1d3fb82ab6e4",
        "colab": {
          "base_uri": "https://localhost:8080/",
          "height": 204
        }
      },
      "source": [
        "data_iris = pd.read_csv(io.StringIO(uploaded['IRIS.csv'].decode('utf-8')))\n",
        "data_iris.head()"
      ],
      "execution_count": 0,
      "outputs": [
        {
          "output_type": "execute_result",
          "data": {
            "text/html": [
              "<div>\n",
              "<style scoped>\n",
              "    .dataframe tbody tr th:only-of-type {\n",
              "        vertical-align: middle;\n",
              "    }\n",
              "\n",
              "    .dataframe tbody tr th {\n",
              "        vertical-align: top;\n",
              "    }\n",
              "\n",
              "    .dataframe thead th {\n",
              "        text-align: right;\n",
              "    }\n",
              "</style>\n",
              "<table border=\"1\" class=\"dataframe\">\n",
              "  <thead>\n",
              "    <tr style=\"text-align: right;\">\n",
              "      <th></th>\n",
              "      <th>sepal.length</th>\n",
              "      <th>sepal.width</th>\n",
              "      <th>petal.length</th>\n",
              "      <th>petal.width</th>\n",
              "      <th>variety</th>\n",
              "    </tr>\n",
              "  </thead>\n",
              "  <tbody>\n",
              "    <tr>\n",
              "      <th>0</th>\n",
              "      <td>5.1</td>\n",
              "      <td>3.5</td>\n",
              "      <td>1.4</td>\n",
              "      <td>0.2</td>\n",
              "      <td>Setosa</td>\n",
              "    </tr>\n",
              "    <tr>\n",
              "      <th>1</th>\n",
              "      <td>4.9</td>\n",
              "      <td>3.0</td>\n",
              "      <td>1.4</td>\n",
              "      <td>0.2</td>\n",
              "      <td>Setosa</td>\n",
              "    </tr>\n",
              "    <tr>\n",
              "      <th>2</th>\n",
              "      <td>4.7</td>\n",
              "      <td>3.2</td>\n",
              "      <td>1.3</td>\n",
              "      <td>0.2</td>\n",
              "      <td>Setosa</td>\n",
              "    </tr>\n",
              "    <tr>\n",
              "      <th>3</th>\n",
              "      <td>4.6</td>\n",
              "      <td>3.1</td>\n",
              "      <td>1.5</td>\n",
              "      <td>0.2</td>\n",
              "      <td>Setosa</td>\n",
              "    </tr>\n",
              "    <tr>\n",
              "      <th>4</th>\n",
              "      <td>5.0</td>\n",
              "      <td>3.6</td>\n",
              "      <td>1.4</td>\n",
              "      <td>0.2</td>\n",
              "      <td>Setosa</td>\n",
              "    </tr>\n",
              "  </tbody>\n",
              "</table>\n",
              "</div>"
            ],
            "text/plain": [
              "   sepal.length  sepal.width  petal.length  petal.width variety\n",
              "0           5.1          3.5           1.4          0.2  Setosa\n",
              "1           4.9          3.0           1.4          0.2  Setosa\n",
              "2           4.7          3.2           1.3          0.2  Setosa\n",
              "3           4.6          3.1           1.5          0.2  Setosa\n",
              "4           5.0          3.6           1.4          0.2  Setosa"
            ]
          },
          "metadata": {
            "tags": []
          },
          "execution_count": 15
        }
      ]
    },
    {
      "cell_type": "code",
      "metadata": {
        "id": "T-xBZ2clx2x9",
        "colab_type": "code",
        "outputId": "8d61488c-9974-40a9-fb58-3cb868457762",
        "colab": {
          "base_uri": "https://localhost:8080/",
          "height": 89
        }
      },
      "source": [
        "data_iris['variety'].value_counts()"
      ],
      "execution_count": 0,
      "outputs": [
        {
          "output_type": "execute_result",
          "data": {
            "text/plain": [
              "Setosa        50\n",
              "Versicolor    50\n",
              "Virginica     50\n",
              "Name: variety, dtype: int64"
            ]
          },
          "metadata": {
            "tags": []
          },
          "execution_count": 16
        }
      ]
    },
    {
      "cell_type": "code",
      "metadata": {
        "id": "CIeZVWwXyfkB",
        "colab_type": "code",
        "colab": {}
      },
      "source": [
        "import numpy as np\n",
        "variety = ['Setosa', 'Versicolor', 'Virginica']\n",
        "# Number of examples\n",
        "m = data_iris.shape[0]\n",
        "# Features\n",
        "n = 4\n",
        "# Number of classes\n",
        "k = 3\n",
        "\n",
        "X = np.ones((m,n + 1))\n",
        "y = np.array((m,1))\n",
        "X[:,1] = data_iris['petal.length'].values\n",
        "X[:,2] = data_iris['petal.width'].values\n",
        "X[:,3] = data_iris['sepal.length'].values\n",
        "X[:,4] = data_iris['sepal.width'].values\n",
        "\n",
        "# Labels\n",
        "y = data_iris['variety'].values\n",
        "\n",
        "for j in range(n):\n",
        "    X[:, j] = (X[:, j] - X[:,j].mean())"
      ],
      "execution_count": 0,
      "outputs": []
    },
    {
      "cell_type": "code",
      "metadata": {
        "id": "cIt3TwIizfnB",
        "colab_type": "code",
        "outputId": "2997d64b-e2f3-4a66-aadc-cf4899312b97",
        "colab": {
          "base_uri": "https://localhost:8080/",
          "height": 53
        }
      },
      "source": [
        "from sklearn.model_selection import train_test_split\n",
        "X_train, X_test, y_train, y_test = train_test_split(X, y, test_size = 0.2, random_state = 11)\n",
        "X = data_iris.drop([ 'variety'], axis=1)\n",
        "y = data_iris['variety']\n",
        "print(X_train.shape)\n",
        "print(y_test.shape)"
      ],
      "execution_count": 0,
      "outputs": [
        {
          "output_type": "stream",
          "text": [
            "(120, 5)\n",
            "(30,)\n"
          ],
          "name": "stdout"
        }
      ]
    },
    {
      "cell_type": "code",
      "metadata": {
        "id": "cpGRJbD80Osp",
        "colab_type": "code",
        "colab": {}
      },
      "source": [
        "def sigmoid(z):\n",
        "    return 1.0 / (1 + np.exp(-z))"
      ],
      "execution_count": 0,
      "outputs": []
    },
    {
      "cell_type": "code",
      "metadata": {
        "id": "-5O7IWcW0WSr",
        "colab_type": "code",
        "colab": {}
      },
      "source": [
        "def reglrCostFunction(theta, X, y, lambda_s = 0.1):\n",
        "    m = len(y)\n",
        "    h = sigmoid(X.dot(theta))\n",
        "    J = (1 / m) * (-y.T.dot(np.log(h)) - (1 - y).T.dot(np.log(1 - h)))\n",
        "    reg = (lambda_s/(2 * m)) * np.sum(theta**2)\n",
        "    J = J + reg\n",
        " \n",
        "    return J"
      ],
      "execution_count": 0,
      "outputs": []
    },
    {
      "cell_type": "code",
      "metadata": {
        "id": "ctA3Varw0YWx",
        "colab_type": "code",
        "colab": {}
      },
      "source": [
        "def reglrGradient(theta, X, y, lambda_s = 0.1):\n",
        "    m, n = X.shape\n",
        "    theta = theta.reshape((n, 1))\n",
        "    y = y.reshape((m, 1))\n",
        "    h = sigmoid(X.dot(theta))\n",
        "    reg = lambda_s * theta /m\n",
        "    gd = ((1 / m) * X.T.dot(h - y)) \n",
        "    gd = gd + reg\n",
        "\n",
        "    return gd"
      ],
      "execution_count": 0,
      "outputs": []
    },
    {
      "cell_type": "code",
      "metadata": {
        "id": "AfPDq9ir0b9F",
        "colab_type": "code",
        "colab": {}
      },
      "source": [
        "def logisticRegression(X, y, theta):\n",
        "    result = op.minimize(fun = reglrCostFunction, x0 = theta, args = (X, y),\n",
        "                         method = 'TNC', jac = reglrGradient)\n",
        "    \n",
        "    return result.x"
      ],
      "execution_count": 0,
      "outputs": []
    },
    {
      "cell_type": "code",
      "metadata": {
        "id": "alzZf7WZ0gz0",
        "colab_type": "code",
        "colab": {}
      },
      "source": [
        "from scipy import optimize as op\n",
        "all_theta = np.zeros((k, n + 1))\n",
        "i = 0\n",
        "for flower in variety:\n",
        "    tmp_y = np.array(y_train == flower, dtype = int)\n",
        "    optTheta = logisticRegression(X_train, tmp_y, np.zeros((n + 1,1)))\n",
        "    all_theta[i] = optTheta\n",
        "    i += 1"
      ],
      "execution_count": 0,
      "outputs": []
    },
    {
      "cell_type": "code",
      "metadata": {
        "id": "Rpl5P6AE2VRk",
        "colab_type": "code",
        "outputId": "f2269f47-286f-4582-a7bf-2366c886328e",
        "colab": {
          "base_uri": "https://localhost:8080/",
          "height": 35
        }
      },
      "source": [
        "def accuracy(y_test, pred):\n",
        "  return (y_test==pred).mean()\n",
        "  \n",
        "Prob = sigmoid(X_test.dot(all_theta.T)) \n",
        "pred = [variety[np.argmax(Prob[i, :])] for i in range(X_test.shape[0])]\n",
        "\n",
        "print(\" Test Accuracy \", accuracy(y_test, pred) * 100 , '%')"
      ],
      "execution_count": 0,
      "outputs": [
        {
          "output_type": "stream",
          "text": [
            " Test Accuracy  96.66666666666667 %\n"
          ],
          "name": "stdout"
        }
      ]
    },
    {
      "cell_type": "code",
      "metadata": {
        "id": "ttFCrJZmzW1I",
        "colab_type": "code",
        "colab": {}
      },
      "source": [
        ""
      ],
      "execution_count": 0,
      "outputs": []
    },
    {
      "cell_type": "code",
      "metadata": {
        "id": "9mBqIKO4DMLx",
        "colab_type": "code",
        "colab": {}
      },
      "source": [
        ""
      ],
      "execution_count": 0,
      "outputs": []
    }
  ]
}